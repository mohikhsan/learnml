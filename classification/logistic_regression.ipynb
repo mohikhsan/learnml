{
 "cells": [
  {
   "attachments": {},
   "cell_type": "markdown",
   "metadata": {},
   "source": [
    "# Logistic Regression for classification\n",
    "\n",
    "In logistic regression, we use the sigmoid function to determine the probability that a given set of features will produce a given categorical variable."
   ]
  },
  {
   "attachments": {},
   "cell_type": "markdown",
   "metadata": {},
   "source": [
    "### Import python libraries"
   ]
  },
  {
   "cell_type": "code",
   "execution_count": 16,
   "metadata": {},
   "outputs": [],
   "source": [
    "# import data science libraries\n",
    "import numpy as np\n",
    "import pandas as pd\n",
    "import matplotlib.pyplot as plt\n",
    "from matplotlib.colors import ListedColormap\n",
    "\n",
    "# import sklearn libraries\n",
    "from sklearn.linear_model import LogisticRegression\n",
    "from sklearn.model_selection import train_test_split\n",
    "from sklearn.preprocessing import StandardScaler\n",
    "from sklearn.metrics import confusion_matrix, accuracy_score, f1_score, precision_score, recall_score, roc_auc_score, roc_curve\n",
    "\n",
    "# import sklearn datasets\n",
    "from sklearn.datasets import load_iris, load_breast_cancer\n"
   ]
  },
  {
   "attachments": {},
   "cell_type": "markdown",
   "metadata": {},
   "source": [
    "## Social Network Dataset\n",
    "\n",
    "Predicting whether users will purchase a product from an ad based on their age & estimated salary."
   ]
  },
  {
   "attachments": {},
   "cell_type": "markdown",
   "metadata": {},
   "source": [
    "### Import dataset"
   ]
  },
  {
   "cell_type": "code",
   "execution_count": 17,
   "metadata": {},
   "outputs": [
    {
     "data": {
      "text/html": [
       "<div>\n",
       "<style scoped>\n",
       "    .dataframe tbody tr th:only-of-type {\n",
       "        vertical-align: middle;\n",
       "    }\n",
       "\n",
       "    .dataframe tbody tr th {\n",
       "        vertical-align: top;\n",
       "    }\n",
       "\n",
       "    .dataframe thead th {\n",
       "        text-align: right;\n",
       "    }\n",
       "</style>\n",
       "<table border=\"1\" class=\"dataframe\">\n",
       "  <thead>\n",
       "    <tr style=\"text-align: right;\">\n",
       "      <th></th>\n",
       "      <th>Age</th>\n",
       "      <th>EstimatedSalary</th>\n",
       "      <th>Purchased</th>\n",
       "    </tr>\n",
       "  </thead>\n",
       "  <tbody>\n",
       "    <tr>\n",
       "      <th>0</th>\n",
       "      <td>19</td>\n",
       "      <td>19000</td>\n",
       "      <td>0</td>\n",
       "    </tr>\n",
       "    <tr>\n",
       "      <th>1</th>\n",
       "      <td>35</td>\n",
       "      <td>20000</td>\n",
       "      <td>0</td>\n",
       "    </tr>\n",
       "    <tr>\n",
       "      <th>2</th>\n",
       "      <td>26</td>\n",
       "      <td>43000</td>\n",
       "      <td>0</td>\n",
       "    </tr>\n",
       "    <tr>\n",
       "      <th>3</th>\n",
       "      <td>27</td>\n",
       "      <td>57000</td>\n",
       "      <td>0</td>\n",
       "    </tr>\n",
       "    <tr>\n",
       "      <th>4</th>\n",
       "      <td>19</td>\n",
       "      <td>76000</td>\n",
       "      <td>0</td>\n",
       "    </tr>\n",
       "  </tbody>\n",
       "</table>\n",
       "</div>"
      ],
      "text/plain": [
       "   Age  EstimatedSalary  Purchased\n",
       "0   19            19000          0\n",
       "1   35            20000          0\n",
       "2   26            43000          0\n",
       "3   27            57000          0\n",
       "4   19            76000          0"
      ]
     },
     "execution_count": 17,
     "metadata": {},
     "output_type": "execute_result"
    }
   ],
   "source": [
    "# import dataset, ignore index column\n",
    "dataset_sn = pd.read_csv('datasets/social_network.csv')\n",
    "dataset_sn.head()"
   ]
  },
  {
   "cell_type": "code",
   "execution_count": 18,
   "metadata": {},
   "outputs": [
    {
     "name": "stdout",
     "output_type": "stream",
     "text": [
      "First 5 rows of X: [[   19 19000]\n",
      " [   35 20000]\n",
      " [   26 43000]\n",
      " [   27 57000]\n",
      " [   19 76000]]\n",
      "First 5 rows of y: [0 0 0 0 0]\n"
     ]
    }
   ],
   "source": [
    "# split dataset into X and y\n",
    "X_sn = dataset_sn.iloc[:, :-1].values\n",
    "y_sn = dataset_sn.iloc[:, -1].values\n",
    "\n",
    "# print see first 5 rows of X and y\n",
    "print(f'First 5 rows of X: {X_sn[:5]}')\n",
    "print(f'First 5 rows of y: {y_sn[:5]}')"
   ]
  },
  {
   "attachments": {},
   "cell_type": "markdown",
   "metadata": {},
   "source": [
    "### Visualize the dataset"
   ]
  },
  {
   "cell_type": "code",
   "execution_count": 19,
   "metadata": {},
   "outputs": [
    {
     "data": {
      "image/png": "[encoded data removed]",
      "text/plain": [
       "<Figure size 640x480 with 1 Axes>"
      ]
     },
     "metadata": {},
     "output_type": "display_data"
    }
   ],
   "source": [
    "# visualize dataset\n",
    "plt.scatter(X_sn[y_sn == 0, 0], X_sn[y_sn == 0, 1], color = 'red', label = 'Not Purchased')\n",
    "plt.scatter(X_sn[y_sn == 1, 0], X_sn[y_sn == 1, 1], color = 'blue', label = 'Purchased')\n",
    "plt.title('Social Network Ads')\n",
    "plt.xlabel('Age')\n",
    "plt.ylabel('Estimated Salary')\n",
    "plt.legend()\n",
    "plt.show()"
   ]
  },
  {
   "attachments": {},
   "cell_type": "markdown",
   "metadata": {},
   "source": [
    "### Preprocess dataset"
   ]
  },
  {
   "cell_type": "code",
   "execution_count": 20,
   "metadata": {},
   "outputs": [
    {
     "name": "stdout",
     "output_type": "stream",
     "text": [
      "Number of training set: 300\n",
      "Number of test set: 100\n",
      "First 5 rows of X_train: [[ 1.8925893   1.52189404]\n",
      " [ 0.1250379   0.03213212]\n",
      " [ 0.9106163  -1.31157471]\n",
      " [-1.34792161 -1.48684082]\n",
      " [-0.169554   -0.58129926]]\n",
      "First 5 rows of X_test: [[ 0.812419   -1.39920777]\n",
      " [ 2.0889839   0.52871943]\n",
      " [-0.95513241 -0.75656537]\n",
      " [ 1.0088136   0.76240757]\n",
      " [-0.85693511 -1.22394166]]\n"
     ]
    }
   ],
   "source": [
    "# Split dataset into training and test set\n",
    "X_sn_train, X_sn_test, y_sn_train, y_sn_test = train_test_split(X_sn, y_sn, test_size = 0.25, random_state = 42)\n",
    "\n",
    "# print number of training and test set\n",
    "print(f'Number of training set: {len(X_sn_train)}')\n",
    "print(f'Number of test set: {len(X_sn_test)}')\n",
    "\n",
    "# Feature Scaling\n",
    "sc_sn = StandardScaler()\n",
    "X_sn_train = sc_sn.fit_transform(X_sn_train)\n",
    "X_sn_test = sc_sn.transform(X_sn_test)\n",
    "\n",
    "# print first 5 rows of X_train\n",
    "print(f'First 5 rows of X_train: {X_sn_train[:5]}')\n",
    "\n",
    "# print first 5 rows of X_test\n",
    "print(f'First 5 rows of X_test: {X_sn_test[:5]}')"
   ]
  },
  {
   "attachments": {},
   "cell_type": "markdown",
   "metadata": {},
   "source": [
    "### Develop logistic regression model - training set"
   ]
  },
  {
   "cell_type": "code",
   "execution_count": 21,
   "metadata": {},
   "outputs": [
    {
     "name": "stdout",
     "output_type": "stream",
     "text": [
      "Train vs Predicted: [[1 1]\n",
      " [0 0]\n",
      " [0 1]\n",
      " [0 0]\n",
      " [0 0]]\n"
     ]
    }
   ],
   "source": [
    "# Train Logistic Regression model on training set\n",
    "log_classifier = LogisticRegression(random_state = 42)\n",
    "log_classifier.fit(X_sn_train, y_sn_train)\n",
    "\n",
    "# predict training set results\n",
    "y_sn_pred_train = log_classifier.predict(X_sn_train)\n",
    "\n",
    "# create y_out_train from y_pred_train and y_train\n",
    "y_sn_out_train = np.concatenate((y_sn_pred_train.reshape(len(y_sn_pred_train), 1), y_sn_train.reshape(len(y_sn_train), 1)), 1)\n",
    "\n",
    "# print first 5 rows of y_out_train\n",
    "print(f'Train vs Predicted: {y_sn_out_train[:5]}')"
   ]
  },
  {
   "attachments": {},
   "cell_type": "markdown",
   "metadata": {},
   "source": [
    "### Training set performance"
   ]
  },
  {
   "cell_type": "code",
   "execution_count": 22,
   "metadata": {},
   "outputs": [
    {
     "name": "stdout",
     "output_type": "stream",
     "text": [
      "Confusion Matrix - Training Set: [[179  15]\n",
      " [ 34  72]]\n",
      "Accuracy - Training Set: 0.8366666666666667\n",
      "F1 Score - Training Set: 0.7461139896373057\n"
     ]
    }
   ],
   "source": [
    "# check performance on training set\n",
    "sn_cm_train = confusion_matrix(y_sn_train, y_sn_pred_train)\n",
    "print(f'Confusion Matrix - Training Set: {sn_cm_train}')\n",
    "\n",
    "sn_accuracy_train = accuracy_score(y_sn_train, y_sn_pred_train)\n",
    "print(f'Accuracy - Training Set: {sn_accuracy_train}')\n",
    "\n",
    "sn_f1_train = f1_score(y_sn_train, y_sn_pred_train)\n",
    "print(f'F1 Score - Training Set: {sn_f1_train}')\n"
   ]
  },
  {
   "attachments": {},
   "cell_type": "markdown",
   "metadata": {},
   "source": [
    "### Visualize training set results"
   ]
  },
  {
   "cell_type": "code",
   "execution_count": 23,
   "metadata": {},
   "outputs": [
    {
     "name": "stderr",
     "output_type": "stream",
     "text": [
      "*c* argument looks like a single numeric RGB or RGBA sequence, which should be avoided as value-mapping will have precedence in case its length matches with *x* & *y*.  Please use the *color* keyword-argument or provide a 2D array with a single row if you intend to specify the same RGB or RGBA value for all points.\n",
      "*c* argument looks like a single numeric RGB or RGBA sequence, which should be avoided as value-mapping will have precedence in case its length matches with *x* & *y*.  Please use the *color* keyword-argument or provide a 2D array with a single row if you intend to specify the same RGB or RGBA value for all points.\n"
     ]
    },
    {
     "data": {
      "image/png": "[encoded data removed]",
      "text/plain": [
       "<Figure size 640x480 with 1 Axes>"
      ]
     },
     "metadata": {},
     "output_type": "display_data"
    }
   ],
   "source": [
    "# Visualize training set results\n",
    "X_set, y_set = X_sn_train, y_sn_train\n",
    "X1, X2 = np.meshgrid(np.arange(start = X_set[:, 0].min() - 1, stop = X_set[:, 0].max() + 1, step = 0.01),\n",
    "                        np.arange(start = X_set[:, 1].min() - 1, stop = X_set[:, 1].max() + 1, step = 0.01))\n",
    "plt.contourf(X1, X2, log_classifier.predict(np.array([X1.ravel(), X2.ravel()]).T).reshape(X1.shape),\n",
    "                alpha = 0.75, cmap = ListedColormap(('red', 'green')))\n",
    "plt.xlim(X1.min(), X1.max())\n",
    "plt.ylim(X2.min(), X2.max())\n",
    "for i, j in enumerate(np.unique(y_set)):\n",
    "    plt.scatter(X_set[y_set == j, 0], X_set[y_set == j, 1],\n",
    "                c = ListedColormap(('red', 'green'))(i), label = j)\n",
    "plt.title('Logistic Regression (Training set)')\n",
    "plt.xlabel('Age')\n",
    "plt.ylabel('Estimated Salary')\n",
    "plt.legend()\n",
    "plt.show()"
   ]
  },
  {
   "attachments": {},
   "cell_type": "markdown",
   "metadata": {},
   "source": [
    "### Predict results on test set"
   ]
  },
  {
   "cell_type": "code",
   "execution_count": 24,
   "metadata": {},
   "outputs": [
    {
     "name": "stdout",
     "output_type": "stream",
     "text": [
      "Test vs Predicted:\n",
      " [[0 0]\n",
      " [1 1]\n",
      " [0 0]\n",
      " [1 1]\n",
      " [0 0]]\n"
     ]
    }
   ],
   "source": [
    "# Predict test set results\n",
    "y_sn_pred_test = log_classifier.predict(X_sn_test)\n",
    "\n",
    "# create y_out from y_test and y_pred\n",
    "y_sn_out_test = np.concatenate((y_sn_test.reshape(len(y_sn_test), 1), y_sn_pred_test.reshape(len(y_sn_pred_test), 1)), 1)\n",
    "\n",
    "# print first 5 rows of y_out\n",
    "print(f'Test vs Predicted:\\n {y_sn_out_test[:5]}')"
   ]
  },
  {
   "attachments": {},
   "cell_type": "markdown",
   "metadata": {},
   "source": [
    "### Test set performance"
   ]
  },
  {
   "cell_type": "code",
   "execution_count": 25,
   "metadata": {},
   "outputs": [
    {
     "name": "stdout",
     "output_type": "stream",
     "text": [
      "Confusion Matrix - Test Set: [[61  2]\n",
      " [12 25]]\n",
      "Accuracy - Test Set: 0.86\n",
      "F1 Score - Test Set: 0.7812500000000001\n"
     ]
    }
   ],
   "source": [
    "# check performance on test set\n",
    "sn_cm_test = confusion_matrix(y_sn_test, y_sn_pred_test)\n",
    "print(f'Confusion Matrix - Test Set: {sn_cm_test}')\n",
    "\n",
    "sn_accuracy_test = accuracy_score(y_sn_test, y_sn_pred_test)\n",
    "print(f'Accuracy - Test Set: {sn_accuracy_test}')\n",
    "\n",
    "sn_f1_test = f1_score(y_sn_test, y_sn_pred_test)\n",
    "print(f'F1 Score - Test Set: {sn_f1_test}')\n"
   ]
  },
  {
   "attachments": {},
   "cell_type": "markdown",
   "metadata": {},
   "source": [
    "### Visualize Test Set Results"
   ]
  },
  {
   "cell_type": "code",
   "execution_count": 26,
   "metadata": {},
   "outputs": [
    {
     "name": "stderr",
     "output_type": "stream",
     "text": [
      "*c* argument looks like a single numeric RGB or RGBA sequence, which should be avoided as value-mapping will have precedence in case its length matches with *x* & *y*.  Please use the *color* keyword-argument or provide a 2D array with a single row if you intend to specify the same RGB or RGBA value for all points.\n",
      "*c* argument looks like a single numeric RGB or RGBA sequence, which should be avoided as value-mapping will have precedence in case its length matches with *x* & *y*.  Please use the *color* keyword-argument or provide a 2D array with a single row if you intend to specify the same RGB or RGBA value for all points.\n"
     ]
    },
    {
     "data": {
      "image/png": "[encoded data removed]",
      "text/plain": [
       "<Figure size 640x480 with 1 Axes>"
      ]
     },
     "metadata": {},
     "output_type": "display_data"
    }
   ],
   "source": [
    "# Visualize test set results\n",
    "X_set, y_set = X_sn_test, y_sn_test\n",
    "X1, X2 = np.meshgrid(np.arange(start = X_set[:, 0].min() - 1, stop = X_set[:, 0].max() + 1, step = 0.01),\n",
    "                        np.arange(start = X_set[:, 1].min() - 1, stop = X_set[:, 1].max() + 1, step = 0.01))\n",
    "plt.contourf(X1, X2, log_classifier.predict(np.array([X1.ravel(), X2.ravel()]).T).reshape(X1.shape),\n",
    "                alpha = 0.75, cmap = ListedColormap(('red', 'green')))\n",
    "plt.xlim(X1.min(), X1.max())\n",
    "plt.ylim(X2.min(), X2.max())\n",
    "for i, j in enumerate(np.unique(y_set)):\n",
    "    plt.scatter(X_set[y_set == j, 0], X_set[y_set == j, 1],\n",
    "                c = ListedColormap(('red', 'green'))(i), label = j)\n",
    "plt.title('Logistic Regression (Training set)')\n",
    "plt.xlabel('Age')\n",
    "plt.ylabel('Estimated Salary')\n",
    "plt.legend()\n",
    "plt.show()"
   ]
  },
  {
   "attachments": {},
   "cell_type": "markdown",
   "metadata": {},
   "source": [
    "## Iris Dataset\n",
    "\n",
    "The Iris dataset was used in R.A. Fisher's classic 1936 paper, The Use of Multiple Measurements in Taxonomic Problems, and can also be found on the UCI Machine Learning Repository.\n",
    "\n",
    "It includes three iris species with 50 samples each as well as some properties about each flower. One flower species is linearly separable from the other two, but the other two are not linearly separable from each other.\n",
    "\n",
    "The columns in this dataset are:\n",
    "Id\n",
    "SepalLengthCm\n",
    "SepalWidthCm\n",
    "PetalLengthCm\n",
    "PetalWidthCm\n",
    "Species\n",
    "\n",
    "Goal is to classify between 3 classes: setosa, versicolor, virginica\n",
    "\n",
    "Source: sklearn.datasets -> load_iris"
   ]
  },
  {
   "attachments": {},
   "cell_type": "markdown",
   "metadata": {},
   "source": [
    "### Load and get basic data of the dataset"
   ]
  },
  {
   "cell_type": "code",
   "execution_count": 27,
   "metadata": {},
   "outputs": [
    {
     "name": "stdout",
     "output_type": "stream",
     "text": [
      "Features: ['sepal length (cm)', 'sepal width (cm)', 'petal length (cm)', 'petal width (cm)']\n",
      "Targets: ['setosa' 'versicolor' 'virginica']\n",
      ".. _iris_dataset:\n",
      "\n",
      "Iris plants dataset\n",
      "--------------------\n",
      "\n",
      "**Data Set Characteristics:**\n",
      "\n",
      "    :Number of Instances: 150 (50 in each of three classes)\n",
      "    :Number of Attributes: 4 numeric, predictive attributes and the class\n",
      "    :Attribute Information:\n",
      "        - sepal length in cm\n",
      "        - sepal width in cm\n",
      "        - petal length in cm\n",
      "        - petal width in cm\n",
      "        - class:\n",
      "                - Iris-Setosa\n",
      "                - Iris-Versicolour\n",
      "                - Iris-Virginica\n",
      "                \n",
      "    :Summary Statistics:\n",
      "\n",
      "    ============== ==== ==== ======= ===== ====================\n",
      "                    Min  Max   Mean    SD   Class Correlation\n",
      "    ============== ==== ==== ======= ===== ====================\n",
      "    sepal length:   4.3  7.9   5.84   0.83    0.7826\n",
      "    sepal width:    2.0  4.4   3.05   0.43   -0.4194\n",
      "    petal length:   1.0  6.9   3.76   1.76    0.9490  (high!)\n",
      "    petal width:    0.1  2.5   1.20   0.76    0.9565  (high!)\n",
      "    ============== ==== ==== ======= ===== ====================\n",
      "\n",
      "    :Missing Attribute Values: None\n",
      "    :Class Distribution: 33.3% for each of 3 classes.\n",
      "    :Creator: R.A. Fisher\n",
      "    :Donor: Michael Marshall (MARSHALL%PLU@io.arc.nasa.gov)\n",
      "    :Date: July, 1988\n",
      "\n",
      "The famous Iris database, first used by Sir R.A. Fisher. The dataset is taken\n",
      "from Fisher's paper. Note that it's the same as in R, but not as in the UCI\n",
      "Machine Learning Repository, which has two wrong data points.\n",
      "\n",
      "This is perhaps the best known database to be found in the\n",
      "pattern recognition literature.  Fisher's paper is a classic in the field and\n",
      "is referenced frequently to this day.  (See Duda & Hart, for example.)  The\n",
      "data set contains 3 classes of 50 instances each, where each class refers to a\n",
      "type of iris plant.  One class is linearly separable from the other 2; the\n",
      "latter are NOT linearly separable from each other.\n",
      "\n",
      ".. topic:: References\n",
      "\n",
      "   - Fisher, R.A. \"The use of multiple measurements in taxonomic problems\"\n",
      "     Annual Eugenics, 7, Part II, 179-188 (1936); also in \"Contributions to\n",
      "     Mathematical Statistics\" (John Wiley, NY, 1950).\n",
      "   - Duda, R.O., & Hart, P.E. (1973) Pattern Classification and Scene Analysis.\n",
      "     (Q327.D83) John Wiley & Sons.  ISBN 0-471-22361-1.  See page 218.\n",
      "   - Dasarathy, B.V. (1980) \"Nosing Around the Neighborhood: A New System\n",
      "     Structure and Classification Rule for Recognition in Partially Exposed\n",
      "     Environments\".  IEEE Transactions on Pattern Analysis and Machine\n",
      "     Intelligence, Vol. PAMI-2, No. 1, 67-71.\n",
      "   - Gates, G.W. (1972) \"The Reduced Nearest Neighbor Rule\".  IEEE Transactions\n",
      "     on Information Theory, May 1972, 431-433.\n",
      "   - See also: 1988 MLC Proceedings, 54-64.  Cheeseman et al\"s AUTOCLASS II\n",
      "     conceptual clustering system finds 3 classes in the data.\n",
      "   - Many, many more ...\n"
     ]
    }
   ],
   "source": [
    "# load iris dataset\n",
    "iris = load_iris()\n",
    "\n",
    "# print iris dataset features\n",
    "print(f'Features: {iris.feature_names}')\n",
    "\n",
    "# print iris dataset target\n",
    "print(f'Targets: {iris.target_names}')\n",
    "\n",
    "# print iris dataset description\n",
    "print(iris.DESCR)\n"
   ]
  },
  {
   "cell_type": "code",
   "execution_count": 28,
   "metadata": {},
   "outputs": [
    {
     "name": "stdout",
     "output_type": "stream",
     "text": [
      "First 5 rows of X: [[5.1 3.5 1.4 0.2]\n",
      " [4.9 3.  1.4 0.2]\n",
      " [4.7 3.2 1.3 0.2]\n",
      " [4.6 3.1 1.5 0.2]\n",
      " [5.  3.6 1.4 0.2]]\n",
      "First 5 rows of y: [0 0 0 0 0]\n"
     ]
    }
   ],
   "source": [
    "# separate data into X and y\n",
    "X_iris = iris.data\n",
    "y_iris = iris.target\n",
    "\n",
    "# print first 5 rows of X\n",
    "print(f'First 5 rows of X: {X_iris[:5]}')\n",
    "\n",
    "# print first 5 rows of y\n",
    "print(f'First 5 rows of y: {y_iris[:5]}')"
   ]
  },
  {
   "cell_type": "code",
   "execution_count": 29,
   "metadata": {},
   "outputs": [
    {
     "name": "stdout",
     "output_type": "stream",
     "text": [
      "Number of training samples: 120\n",
      "Number of test samples: 30\n",
      "First 5 rows of X_train: [[4.4 2.9 1.4 0.2]\n",
      " [4.9 2.5 4.5 1.7]\n",
      " [6.8 2.8 4.8 1.4]\n",
      " [4.9 3.1 1.5 0.1]\n",
      " [5.5 2.5 4.  1.3]]\n",
      "First 5 rows of y_train: [0 2 1 0 1]\n",
      "First 5 rows of X_test: [[4.4 3.  1.3 0.2]\n",
      " [6.1 3.  4.9 1.8]\n",
      " [4.9 2.4 3.3 1. ]\n",
      " [5.  2.3 3.3 1. ]\n",
      " [4.4 3.2 1.3 0.2]]\n",
      "First 5 rows of y_test: [0 2 1 1 0]\n"
     ]
    }
   ],
   "source": [
    "# separate data into training and test sets, stratisfied by y\n",
    "X_iris_train, X_iris_test, y_iris_train, y_iris_test = train_test_split(X_iris, y_iris, test_size = 0.2, random_state = 42, stratify = y_iris)\n",
    "\n",
    "# print number of training & test samples\n",
    "print(f'Number of training samples: {len(X_iris_train)}')\n",
    "print(f'Number of test samples: {len(X_iris_test)}')\n",
    "\n",
    "# print first 5 rows of X_train\n",
    "print(f'First 5 rows of X_train: {X_iris_train[:5]}')\n",
    "\n",
    "# print first 5 rows of y_train\n",
    "print(f'First 5 rows of y_train: {y_iris_train[:5]}')\n",
    "\n",
    "# print first 5 rows of X_test\n",
    "print(f'First 5 rows of X_test: {X_iris_test[:5]}')\n",
    "\n",
    "# print first 5 rows of y_test\n",
    "print(f'First 5 rows of y_test: {y_iris_test[:5]}')\n"
   ]
  },
  {
   "attachments": {},
   "cell_type": "markdown",
   "metadata": {},
   "source": [
    "### Build Logistic Regression classifier"
   ]
  },
  {
   "cell_type": "code",
   "execution_count": 30,
   "metadata": {},
   "outputs": [
    {
     "name": "stdout",
     "output_type": "stream",
     "text": [
      "Confusion Matrix - Training Set: [[40  0  0]\n",
      " [ 0 38  2]\n",
      " [ 0  1 39]]\n",
      "Accuracy - Training Set: 0.975\n",
      "F1 Score - Training Set: 0.9749960931395532\n"
     ]
    }
   ],
   "source": [
    "# create logistic regression classifier\n",
    "log_class_iris = LogisticRegression(random_state = 42, multi_class='multinomial', solver='lbfgs')\n",
    "\n",
    "# fit classifier to training set\n",
    "log_class_iris.fit(X_iris_train, y_iris_train)\n",
    "\n",
    "# check performance on training set\n",
    "iris_cm_train = confusion_matrix(y_iris_train, log_class_iris.predict(X_iris_train))\n",
    "print(f'Confusion Matrix - Training Set: {iris_cm_train}')\n",
    "\n",
    "iris_accuracy_train = accuracy_score(y_iris_train, log_class_iris.predict(X_iris_train))\n",
    "print(f'Accuracy - Training Set: {iris_accuracy_train}')\n",
    "\n",
    "iris_f1_train = f1_score(y_iris_train, log_class_iris.predict(X_iris_train), average = 'weighted')\n",
    "print(f'F1 Score - Training Set: {iris_f1_train}')"
   ]
  },
  {
   "cell_type": "code",
   "execution_count": 31,
   "metadata": {},
   "outputs": [
    {
     "name": "stdout",
     "output_type": "stream",
     "text": [
      "Test vs Predicted:\n",
      " [[0 0]\n",
      " [2 2]\n",
      " [1 1]\n",
      " [1 1]\n",
      " [0 0]]\n",
      "Confusion Matrix - Test Set: [[10  0  0]\n",
      " [ 0  9  1]\n",
      " [ 0  0 10]]\n",
      "Accuracy - Test Set: 0.9666666666666667\n",
      "F1 Score - Test Set: 0.9665831244778613\n"
     ]
    }
   ],
   "source": [
    "# predict test set results\n",
    "y_iris_pred_test = log_class_iris.predict(X_iris_test)\n",
    "\n",
    "# create y_out from y_test and y_pred\n",
    "y_iris_out_test = np.concatenate((y_iris_test.reshape(len(y_iris_test), 1), y_iris_pred_test.reshape(len(y_iris_pred_test), 1)), 1)\n",
    "\n",
    "# print first 5 rows of y_out\n",
    "print(f'Test vs Predicted:\\n {y_iris_out_test[:5]}')\n",
    "\n",
    "# check performance on test set\n",
    "iris_cm_test = confusion_matrix(y_iris_test, y_iris_pred_test)\n",
    "print(f'Confusion Matrix - Test Set: {iris_cm_test}')\n",
    "\n",
    "iris_accuracy_test = accuracy_score(y_iris_test, y_iris_pred_test)\n",
    "print(f'Accuracy - Test Set: {iris_accuracy_test}')\n",
    "\n",
    "iris_f1_test = f1_score(y_iris_test, y_iris_pred_test, average = 'weighted')\n",
    "print(f'F1 Score - Test Set: {iris_f1_test}')\n"
   ]
  },
  {
   "cell_type": "code",
   "execution_count": 32,
   "metadata": {},
   "outputs": [
    {
     "name": "stdout",
     "output_type": "stream",
     "text": [
      "Accuracy - Training Set: 0.975\n",
      "Accuracy - Test Set: 0.9666666666666667\n",
      "F1 Score - Training Set: 0.9749960931395532\n",
      "F1 Score - Test Set: 0.9665831244778613\n"
     ]
    }
   ],
   "source": [
    "# Compare between training and test set performance\n",
    "print(f'Accuracy - Training Set: {iris_accuracy_train}')\n",
    "print(f'Accuracy - Test Set: {iris_accuracy_test}')\n",
    "\n",
    "print(f'F1 Score - Training Set: {iris_f1_train}')\n",
    "print(f'F1 Score - Test Set: {iris_f1_test}')\n"
   ]
  },
  {
   "attachments": {},
   "cell_type": "markdown",
   "metadata": {},
   "source": [
    "## Wisconsin Breast Cancer Dataset\n",
    "\n",
    "The goal is classify patients between bening & malignant cancer.\n",
    "\n",
    "Attribute Information:\n",
    "\n",
    "1) ID number\n",
    "2) Diagnosis (M = malignant, B = benign)\n",
    "3-32)\n",
    "\n",
    "Ten real-valued features are computed for each cell nucleus:\n",
    "\n",
    "a) radius (mean of distances from center to points on the perimeter)\n",
    "b) texture (standard deviation of gray-scale values)\n",
    "c) perimeter\n",
    "d) area\n",
    "e) smoothness (local variation in radius lengths)\n",
    "f) compactness (perimeter^2 / area - 1.0)\n",
    "g) concavity (severity of concave portions of the contour)\n",
    "h) concave points (number of concave portions of the contour)\n",
    "i) symmetry\n",
    "j) fractal dimension (\"coastline approximation\" - 1)\n",
    "\n",
    "The mean, standard error and \"worst\" or largest (mean of the three\n",
    "largest values) of these features were computed for each image,\n",
    "resulting in 30 features. For instance, field 3 is Mean Radius, field\n",
    "13 is Radius SE, field 23 is Worst Radius.\n",
    "\n",
    "All feature values are recoded with four significant digits.\n",
    "\n",
    "Missing attribute values: none\n",
    "\n",
    "Class distribution: 357 benign, 212 malignant\n",
    "\n",
    "Source: sklearn.datasets -> load_breast_cancer"
   ]
  },
  {
   "attachments": {},
   "cell_type": "markdown",
   "metadata": {},
   "source": [
    "### Import dataset"
   ]
  },
  {
   "cell_type": "code",
   "execution_count": 33,
   "metadata": {},
   "outputs": [
    {
     "name": "stdout",
     "output_type": "stream",
     "text": [
      "Features: ['mean radius' 'mean texture' 'mean perimeter' 'mean area'\n",
      " 'mean smoothness' 'mean compactness' 'mean concavity'\n",
      " 'mean concave points' 'mean symmetry' 'mean fractal dimension'\n",
      " 'radius error' 'texture error' 'perimeter error' 'area error'\n",
      " 'smoothness error' 'compactness error' 'concavity error'\n",
      " 'concave points error' 'symmetry error' 'fractal dimension error'\n",
      " 'worst radius' 'worst texture' 'worst perimeter' 'worst area'\n",
      " 'worst smoothness' 'worst compactness' 'worst concavity'\n",
      " 'worst concave points' 'worst symmetry' 'worst fractal dimension']\n",
      "Targets: ['malignant' 'benign']\n",
      ".. _breast_cancer_dataset:\n",
      "\n",
      "Breast cancer wisconsin (diagnostic) dataset\n",
      "--------------------------------------------\n",
      "\n",
      "**Data Set Characteristics:**\n",
      "\n",
      "    :Number of Instances: 569\n",
      "\n",
      "    :Number of Attributes: 30 numeric, predictive attributes and the class\n",
      "\n",
      "    :Attribute Information:\n",
      "        - radius (mean of distances from center to points on the perimeter)\n",
      "        - texture (standard deviation of gray-scale values)\n",
      "        - perimeter\n",
      "        - area\n",
      "        - smoothness (local variation in radius lengths)\n",
      "        - compactness (perimeter^2 / area - 1.0)\n",
      "        - concavity (severity of concave portions of the contour)\n",
      "        - concave points (number of concave portions of the contour)\n",
      "        - symmetry\n",
      "        - fractal dimension (\"coastline approximation\" - 1)\n",
      "\n",
      "        The mean, standard error, and \"worst\" or largest (mean of the three\n",
      "        worst/largest values) of these features were computed for each image,\n",
      "        resulting in 30 features.  For instance, field 0 is Mean Radius, field\n",
      "        10 is Radius SE, field 20 is Worst Radius.\n",
      "\n",
      "        - class:\n",
      "                - WDBC-Malignant\n",
      "                - WDBC-Benign\n",
      "\n",
      "    :Summary Statistics:\n",
      "\n",
      "    ===================================== ====== ======\n",
      "                                           Min    Max\n",
      "    ===================================== ====== ======\n",
      "    radius (mean):                        6.981  28.11\n",
      "    texture (mean):                       9.71   39.28\n",
      "    perimeter (mean):                     43.79  188.5\n",
      "    area (mean):                          143.5  2501.0\n",
      "    smoothness (mean):                    0.053  0.163\n",
      "    compactness (mean):                   0.019  0.345\n",
      "    concavity (mean):                     0.0    0.427\n",
      "    concave points (mean):                0.0    0.201\n",
      "    symmetry (mean):                      0.106  0.304\n",
      "    fractal dimension (mean):             0.05   0.097\n",
      "    radius (standard error):              0.112  2.873\n",
      "    texture (standard error):             0.36   4.885\n",
      "    perimeter (standard error):           0.757  21.98\n",
      "    area (standard error):                6.802  542.2\n",
      "    smoothness (standard error):          0.002  0.031\n",
      "    compactness (standard error):         0.002  0.135\n",
      "    concavity (standard error):           0.0    0.396\n",
      "    concave points (standard error):      0.0    0.053\n",
      "    symmetry (standard error):            0.008  0.079\n",
      "    fractal dimension (standard error):   0.001  0.03\n",
      "    radius (worst):                       7.93   36.04\n",
      "    texture (worst):                      12.02  49.54\n",
      "    perimeter (worst):                    50.41  251.2\n",
      "    area (worst):                         185.2  4254.0\n",
      "    smoothness (worst):                   0.071  0.223\n",
      "    compactness (worst):                  0.027  1.058\n",
      "    concavity (worst):                    0.0    1.252\n",
      "    concave points (worst):               0.0    0.291\n",
      "    symmetry (worst):                     0.156  0.664\n",
      "    fractal dimension (worst):            0.055  0.208\n",
      "    ===================================== ====== ======\n",
      "\n",
      "    :Missing Attribute Values: None\n",
      "\n",
      "    :Class Distribution: 212 - Malignant, 357 - Benign\n",
      "\n",
      "    :Creator:  Dr. William H. Wolberg, W. Nick Street, Olvi L. Mangasarian\n",
      "\n",
      "    :Donor: Nick Street\n",
      "\n",
      "    :Date: November, 1995\n",
      "\n",
      "This is a copy of UCI ML Breast Cancer Wisconsin (Diagnostic) datasets.\n",
      "https://goo.gl/U2Uwz2\n",
      "\n",
      "Features are computed from a digitized image of a fine needle\n",
      "aspirate (FNA) of a breast mass.  They describe\n",
      "characteristics of the cell nuclei present in the image.\n",
      "\n",
      "Separating plane described above was obtained using\n",
      "Multisurface Method-Tree (MSM-T) [K. P. Bennett, \"Decision Tree\n",
      "Construction Via Linear Programming.\" Proceedings of the 4th\n",
      "Midwest Artificial Intelligence and Cognitive Science Society,\n",
      "pp. 97-101, 1992], a classification method which uses linear\n",
      "programming to construct a decision tree.  Relevant features\n",
      "were selected using an exhaustive search in the space of 1-4\n",
      "features and 1-3 separating planes.\n",
      "\n",
      "The actual linear program used to obtain the separating plane\n",
      "in the 3-dimensional space is that described in:\n",
      "[K. P. Bennett and O. L. Mangasarian: \"Robust Linear\n",
      "Programming Discrimination of Two Linearly Inseparable Sets\",\n",
      "Optimization Methods and Software 1, 1992, 23-34].\n",
      "\n",
      "This database is also available through the UW CS ftp server:\n",
      "\n",
      "ftp ftp.cs.wisc.edu\n",
      "cd math-prog/cpo-dataset/machine-learn/WDBC/\n",
      "\n",
      ".. topic:: References\n",
      "\n",
      "   - W.N. Street, W.H. Wolberg and O.L. Mangasarian. Nuclear feature extraction \n",
      "     for breast tumor diagnosis. IS&T/SPIE 1993 International Symposium on \n",
      "     Electronic Imaging: Science and Technology, volume 1905, pages 861-870,\n",
      "     San Jose, CA, 1993.\n",
      "   - O.L. Mangasarian, W.N. Street and W.H. Wolberg. Breast cancer diagnosis and \n",
      "     prognosis via linear programming. Operations Research, 43(4), pages 570-577, \n",
      "     July-August 1995.\n",
      "   - W.H. Wolberg, W.N. Street, and O.L. Mangasarian. Machine learning techniques\n",
      "     to diagnose breast cancer from fine-needle aspirates. Cancer Letters 77 (1994) \n",
      "     163-171.\n"
     ]
    }
   ],
   "source": [
    "#load cancer dataset\n",
    "cancer_data = load_breast_cancer()\n",
    "\n",
    "# print cancer dataset features\n",
    "print(f'Features: {cancer_data.feature_names}')\n",
    "\n",
    "# print cancer dataset target\n",
    "print(f'Targets: {cancer_data.target_names}')\n",
    "\n",
    "# print cancer dataset description\n",
    "print(cancer_data.DESCR)"
   ]
  },
  {
   "cell_type": "code",
   "execution_count": 34,
   "metadata": {},
   "outputs": [
    {
     "name": "stdout",
     "output_type": "stream",
     "text": [
      "Shape of X: (569, 30)\n",
      "First 5 rows of X: [[1.799e+01 1.038e+01 1.228e+02 1.001e+03 1.184e-01 2.776e-01 3.001e-01\n",
      "  1.471e-01 2.419e-01 7.871e-02 1.095e+00 9.053e-01 8.589e+00 1.534e+02\n",
      "  6.399e-03 4.904e-02 5.373e-02 1.587e-02 3.003e-02 6.193e-03 2.538e+01\n",
      "  1.733e+01 1.846e+02 2.019e+03 1.622e-01 6.656e-01 7.119e-01 2.654e-01\n",
      "  4.601e-01 1.189e-01]\n",
      " [2.057e+01 1.777e+01 1.329e+02 1.326e+03 8.474e-02 7.864e-02 8.690e-02\n",
      "  7.017e-02 1.812e-01 5.667e-02 5.435e-01 7.339e-01 3.398e+00 7.408e+01\n",
      "  5.225e-03 1.308e-02 1.860e-02 1.340e-02 1.389e-02 3.532e-03 2.499e+01\n",
      "  2.341e+01 1.588e+02 1.956e+03 1.238e-01 1.866e-01 2.416e-01 1.860e-01\n",
      "  2.750e-01 8.902e-02]\n",
      " [1.969e+01 2.125e+01 1.300e+02 1.203e+03 1.096e-01 1.599e-01 1.974e-01\n",
      "  1.279e-01 2.069e-01 5.999e-02 7.456e-01 7.869e-01 4.585e+00 9.403e+01\n",
      "  6.150e-03 4.006e-02 3.832e-02 2.058e-02 2.250e-02 4.571e-03 2.357e+01\n",
      "  2.553e+01 1.525e+02 1.709e+03 1.444e-01 4.245e-01 4.504e-01 2.430e-01\n",
      "  3.613e-01 8.758e-02]\n",
      " [1.142e+01 2.038e+01 7.758e+01 3.861e+02 1.425e-01 2.839e-01 2.414e-01\n",
      "  1.052e-01 2.597e-01 9.744e-02 4.956e-01 1.156e+00 3.445e+00 2.723e+01\n",
      "  9.110e-03 7.458e-02 5.661e-02 1.867e-02 5.963e-02 9.208e-03 1.491e+01\n",
      "  2.650e+01 9.887e+01 5.677e+02 2.098e-01 8.663e-01 6.869e-01 2.575e-01\n",
      "  6.638e-01 1.730e-01]\n",
      " [2.029e+01 1.434e+01 1.351e+02 1.297e+03 1.003e-01 1.328e-01 1.980e-01\n",
      "  1.043e-01 1.809e-01 5.883e-02 7.572e-01 7.813e-01 5.438e+00 9.444e+01\n",
      "  1.149e-02 2.461e-02 5.688e-02 1.885e-02 1.756e-02 5.115e-03 2.254e+01\n",
      "  1.667e+01 1.522e+02 1.575e+03 1.374e-01 2.050e-01 4.000e-01 1.625e-01\n",
      "  2.364e-01 7.678e-02]]\n",
      "First 5 rows of y: [0 0 0 0 0]\n"
     ]
    }
   ],
   "source": [
    "# separate data into X and y\n",
    "X_cancer = cancer_data.data\n",
    "y_cancer = cancer_data.target\n",
    "\n",
    "# print shape of X\n",
    "print(f'Shape of X: {X_cancer.shape}')\n",
    "\n",
    "# print first 5 rows of X\n",
    "print(f'First 5 rows of X: {X_cancer[:5]}')\n",
    "\n",
    "# print first 5 rows of y\n",
    "print(f'First 5 rows of y: {y_cancer[:5]}')"
   ]
  },
  {
   "cell_type": "code",
   "execution_count": 35,
   "metadata": {},
   "outputs": [
    {
     "name": "stdout",
     "output_type": "stream",
     "text": [
      "Number of training samples: 455\n",
      "Number of test samples: 114\n",
      "First 5 rows of X_train: [[-1.07200079e+00 -6.58424598e-01 -1.08808010e+00 -9.39273639e-01\n",
      "  -1.35939882e-01 -1.00871795e+00 -9.68358632e-01 -1.10203235e+00\n",
      "   2.81062120e-01 -1.13231479e-01 -7.04860874e-01 -4.40938351e-01\n",
      "  -7.43948977e-01 -6.29804931e-01  7.48061001e-04 -9.91572979e-01\n",
      "  -6.93759567e-01 -9.83284458e-01 -5.91579010e-01 -4.28972052e-01\n",
      "  -1.03409427e+00 -6.23497432e-01 -1.07077336e+00 -8.76534437e-01\n",
      "  -1.69982346e-01 -1.03883630e+00 -1.07899452e+00 -1.35052668e+00\n",
      "  -3.52658049e-01 -5.41380026e-01]\n",
      " [ 1.74874285e+00  6.65017334e-02  1.75115682e+00  1.74555856e+00\n",
      "   1.27446827e+00  8.42288215e-01  1.51985232e+00  1.99466430e+00\n",
      "  -2.93045055e-01 -3.20179716e-01  1.27567198e-01 -3.81382677e-01\n",
      "   9.40746962e-02  3.17524379e-01  6.39656015e-01  8.73892616e-02\n",
      "   7.08450758e-01  1.18215034e+00  4.26212305e-01  7.47970186e-02\n",
      "   1.22834212e+00 -9.28334970e-02  1.18746742e+00  1.10438613e+00\n",
      "   1.51700092e+00  2.49654896e-01  1.17859444e+00  1.54991557e+00\n",
      "   1.91077868e-01 -1.73738602e-01]\n",
      " [-9.74733765e-01 -9.31124158e-01 -9.97708707e-01 -8.67589113e-01\n",
      "  -6.13514795e-01 -1.13815371e+00 -1.09229157e+00 -1.24335828e+00\n",
      "   4.34395092e-01 -4.29247030e-01 -2.54445146e-01  1.23713034e+00\n",
      "  -3.38633653e-01 -4.13827272e-01  5.20239935e-01 -8.33114122e-01\n",
      "  -1.00673638e+00 -1.85789410e+00  1.35604635e+00 -1.00656003e+00\n",
      "  -9.73230957e-01 -1.03677207e+00 -1.00804445e+00 -8.34167614e-01\n",
      "  -1.09782314e+00 -1.16725963e+00 -1.28224057e+00 -1.70744192e+00\n",
      "  -3.07733999e-01 -1.21303263e+00]\n",
      " [-1.45103283e-01 -1.21518620e+00 -1.23013146e-01 -2.53191776e-01\n",
      "   6.64481623e-01  2.86761910e-01 -1.29729407e-01 -9.86054170e-02\n",
      "   5.55635117e-01  2.93950087e-02 -5.31048996e-01 -1.26228116e+00\n",
      "  -4.11681722e-01 -4.36599611e-01 -3.93580436e-01 -1.29996991e-01\n",
      "  -2.19964636e-01 -5.27277791e-01 -2.69449772e-01 -3.16623267e-01\n",
      "  -2.51266096e-01 -1.36964309e+00 -1.66632617e-01 -3.30292104e-01\n",
      "   2.34005751e-01  9.68743291e-02 -8.75209380e-02 -3.44838163e-01\n",
      "   2.42198338e-01 -1.18266079e-01]\n",
      " [-7.71617336e-01 -8.12105284e-02 -8.03700403e-01 -7.32926683e-01\n",
      "  -6.72281801e-01 -1.00609931e+00 -7.98501924e-01 -6.84484323e-01\n",
      "   7.37495153e-01 -4.57213008e-01 -4.98529354e-01  1.32296057e+00\n",
      "  -4.40596582e-01 -5.21456538e-01 -1.74225232e-01 -6.28196408e-01\n",
      "  -5.81186881e-01 -2.78344308e-01  1.52853399e+00 -3.13022344e-01\n",
      "  -8.01134682e-01  7.92302636e-02 -8.24381433e-01 -7.41829666e-01\n",
      "  -9.11367096e-01 -9.84611718e-01 -9.33189579e-01 -7.77603514e-01\n",
      "   5.55117584e-01 -7.61638572e-01]]\n"
     ]
    }
   ],
   "source": [
    "# separate data into training and test sets, stratisfied by y\n",
    "X_cancer_train, X_cancer_test, y_cancer_train, y_cancer_test = train_test_split(X_cancer, y_cancer, test_size = 0.2, random_state = 42, stratify = y_cancer)\n",
    "\n",
    "# print number of training & test samples\n",
    "print(f'Number of training samples: {len(X_cancer_train)}')\n",
    "print(f'Number of test samples: {len(X_cancer_test)}')\n",
    "\n",
    "# features scale using StandardScaler\n",
    "sc_cancer = StandardScaler()\n",
    "X_cancer_train = sc_cancer.fit_transform(X_cancer_train)\n",
    "X_cancer_test = sc_cancer.transform(X_cancer_test)\n",
    "\n",
    "# print first 5 rows of X_train\n",
    "print(f'First 5 rows of X_train: {X_cancer_train[:5]}')"
   ]
  },
  {
   "attachments": {},
   "cell_type": "markdown",
   "metadata": {},
   "source": [
    "### Train logistic regression classifier"
   ]
  },
  {
   "cell_type": "code",
   "execution_count": 36,
   "metadata": {},
   "outputs": [
    {
     "name": "stdout",
     "output_type": "stream",
     "text": [
      "Confusion Matrix - Training Set: [[166   4]\n",
      " [  1 284]]\n",
      "Accuracy - Training Set: 0.989010989010989\n",
      "F1 Score - Training Set: 0.9889908435436422\n"
     ]
    }
   ],
   "source": [
    "# train logistic regression classifier\n",
    "log_class_cancer = LogisticRegression(random_state = 42)\n",
    "\n",
    "# fit classifier to training set\n",
    "log_class_cancer.fit(X_cancer_train, y_cancer_train)\n",
    "\n",
    "# check performance on training set\n",
    "cancer_cm_train = confusion_matrix(y_cancer_train, log_class_cancer.predict(X_cancer_train))\n",
    "print(f'Confusion Matrix - Training Set: {cancer_cm_train}')\n",
    "\n",
    "cancer_accuracy_train = accuracy_score(y_cancer_train, log_class_cancer.predict(X_cancer_train))\n",
    "print(f'Accuracy - Training Set: {cancer_accuracy_train}')\n",
    "\n",
    "cancer_f1_train = f1_score(y_cancer_train, log_class_cancer.predict(X_cancer_train), average = 'weighted')\n",
    "print(f'F1 Score - Training Set: {cancer_f1_train}')\n"
   ]
  },
  {
   "cell_type": "code",
   "execution_count": 37,
   "metadata": {},
   "outputs": [
    {
     "name": "stdout",
     "output_type": "stream",
     "text": [
      "Test vs Predicted:\n",
      " [[0 0]\n",
      " [1 1]\n",
      " [0 0]\n",
      " [1 1]\n",
      " [0 0]]\n",
      "Confusion Matrix - Test Set: [[41  1]\n",
      " [ 1 71]]\n",
      "Accuracy - Test Set: 0.9824561403508771\n",
      "F1 Score - Test Set: 0.9824561403508771\n"
     ]
    }
   ],
   "source": [
    "# predict test set results\n",
    "y_cancer_pred_test = log_class_cancer.predict(X_cancer_test)\n",
    "\n",
    "# create y_out from y_test and y_pred\n",
    "y_cancer_out_test = np.concatenate((y_cancer_test.reshape(len(y_cancer_test), 1), y_cancer_pred_test.reshape(len(y_cancer_pred_test), 1)), 1)\n",
    "\n",
    "# print first 5 rows of y_out\n",
    "print(f'Test vs Predicted:\\n {y_cancer_out_test[:5]}')\n",
    "\n",
    "# check performance on test set\n",
    "cancer_cm_test = confusion_matrix(y_cancer_test, y_cancer_pred_test)\n",
    "print(f'Confusion Matrix - Test Set: {cancer_cm_test}')\n",
    "\n",
    "cancer_accuracy_test = accuracy_score(y_cancer_test, y_cancer_pred_test)\n",
    "print(f'Accuracy - Test Set: {cancer_accuracy_test}')\n",
    "\n",
    "cancer_f1_test = f1_score(y_cancer_test, y_cancer_pred_test, average = 'weighted')\n",
    "print(f'F1 Score - Test Set: {cancer_f1_test}')\n"
   ]
  }
 ],
 "metadata": {
  "kernelspec": {
   "display_name": "deeplearning",
   "language": "python",
   "name": "python3"
  },
  "language_info": {
   "codemirror_mode": {
    "name": "ipython",
    "version": 3
   },
   "file_extension": ".py",
   "mimetype": "text/x-python",
   "name": "python",
   "nbconvert_exporter": "python",
   "pygments_lexer": "ipython3",
   "version": "3.10.6"
  },
  "orig_nbformat": 4,
  "vscode": {
   "interpreter": {
    "hash": "a956c096fbee86be6dc66f0cfbe5573e3b0ae35e330fba049136e9d536ab2f89"
   }
  }
 },
 "nbformat": 4,
 "nbformat_minor": 2
}
