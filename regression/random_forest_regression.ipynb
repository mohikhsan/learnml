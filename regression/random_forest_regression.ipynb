{
 "cells": [
  {
   "attachments": {},
   "cell_type": "markdown",
   "metadata": {},
   "source": [
    "# Random Forest Regression\n",
    "\n",
    "Random forest builds on the strengths and weaknesses of the decision tree model. Simply, instead of one tree, we build many trees, or a forest and aggregate the results of all those trees to get the prediction from our forest.\n",
    "\n",
    "Good videos on the random forest algorithm:\n",
    "1. Random forest concept: https://youtu.be/v6VJ2RO66Ag\n",
    "2. Random forest concept: https://youtu.be/w-eWTxbRQcU\n"
   ]
  },
  {
   "attachments": {},
   "cell_type": "markdown",
   "metadata": {},
   "source": [
    "### Import python libraries"
   ]
  },
  {
   "cell_type": "code",
   "execution_count": 21,
   "metadata": {},
   "outputs": [],
   "source": [
    "# import data science libraries\n",
    "import numpy as np\n",
    "import pandas as pd\n",
    "import matplotlib.pyplot as plt\n",
    "import time\n",
    "\n",
    "# import sklearn random forest regressor\n",
    "from sklearn.ensemble import RandomForestRegressor\n"
   ]
  },
  {
   "attachments": {},
   "cell_type": "markdown",
   "metadata": {},
   "source": [
    "## Position Salary Dataset"
   ]
  },
  {
   "attachments": {},
   "cell_type": "markdown",
   "metadata": {},
   "source": [
    "### Import the dataset"
   ]
  },
  {
   "cell_type": "code",
   "execution_count": 6,
   "metadata": {},
   "outputs": [
    {
     "data": {
      "text/html": [
       "<div>\n",
       "<style scoped>\n",
       "    .dataframe tbody tr th:only-of-type {\n",
       "        vertical-align: middle;\n",
       "    }\n",
       "\n",
       "    .dataframe tbody tr th {\n",
       "        vertical-align: top;\n",
       "    }\n",
       "\n",
       "    .dataframe thead th {\n",
       "        text-align: right;\n",
       "    }\n",
       "</style>\n",
       "<table border=\"1\" class=\"dataframe\">\n",
       "  <thead>\n",
       "    <tr style=\"text-align: right;\">\n",
       "      <th></th>\n",
       "      <th>Position</th>\n",
       "      <th>Level</th>\n",
       "      <th>Salary</th>\n",
       "    </tr>\n",
       "  </thead>\n",
       "  <tbody>\n",
       "    <tr>\n",
       "      <th>0</th>\n",
       "      <td>Business Analyst</td>\n",
       "      <td>1</td>\n",
       "      <td>45000</td>\n",
       "    </tr>\n",
       "    <tr>\n",
       "      <th>1</th>\n",
       "      <td>Junior Consultant</td>\n",
       "      <td>2</td>\n",
       "      <td>50000</td>\n",
       "    </tr>\n",
       "    <tr>\n",
       "      <th>2</th>\n",
       "      <td>Senior Consultant</td>\n",
       "      <td>3</td>\n",
       "      <td>60000</td>\n",
       "    </tr>\n",
       "    <tr>\n",
       "      <th>3</th>\n",
       "      <td>Manager</td>\n",
       "      <td>4</td>\n",
       "      <td>80000</td>\n",
       "    </tr>\n",
       "    <tr>\n",
       "      <th>4</th>\n",
       "      <td>Country Manager</td>\n",
       "      <td>5</td>\n",
       "      <td>110000</td>\n",
       "    </tr>\n",
       "    <tr>\n",
       "      <th>5</th>\n",
       "      <td>Region Manager</td>\n",
       "      <td>6</td>\n",
       "      <td>150000</td>\n",
       "    </tr>\n",
       "    <tr>\n",
       "      <th>6</th>\n",
       "      <td>Partner</td>\n",
       "      <td>7</td>\n",
       "      <td>200000</td>\n",
       "    </tr>\n",
       "    <tr>\n",
       "      <th>7</th>\n",
       "      <td>Senior Partner</td>\n",
       "      <td>8</td>\n",
       "      <td>300000</td>\n",
       "    </tr>\n",
       "    <tr>\n",
       "      <th>8</th>\n",
       "      <td>C-level</td>\n",
       "      <td>9</td>\n",
       "      <td>500000</td>\n",
       "    </tr>\n",
       "    <tr>\n",
       "      <th>9</th>\n",
       "      <td>CEO</td>\n",
       "      <td>10</td>\n",
       "      <td>1000000</td>\n",
       "    </tr>\n",
       "  </tbody>\n",
       "</table>\n",
       "</div>"
      ],
      "text/plain": [
       "            Position  Level   Salary\n",
       "0   Business Analyst      1    45000\n",
       "1  Junior Consultant      2    50000\n",
       "2  Senior Consultant      3    60000\n",
       "3            Manager      4    80000\n",
       "4    Country Manager      5   110000\n",
       "5     Region Manager      6   150000\n",
       "6            Partner      7   200000\n",
       "7     Senior Partner      8   300000\n",
       "8            C-level      9   500000\n",
       "9                CEO     10  1000000"
      ]
     },
     "execution_count": 6,
     "metadata": {},
     "output_type": "execute_result"
    }
   ],
   "source": [
    "# import dataset\n",
    "dataset = pd.read_csv('datasets/salary_position.csv')\n",
    "dataset"
   ]
  },
  {
   "cell_type": "code",
   "execution_count": 3,
   "metadata": {},
   "outputs": [
    {
     "name": "stdout",
     "output_type": "stream",
     "text": [
      "Features: [[ 1]\n",
      " [ 2]\n",
      " [ 3]\n",
      " [ 4]\n",
      " [ 5]\n",
      " [ 6]\n",
      " [ 7]\n",
      " [ 8]\n",
      " [ 9]\n",
      " [10]]\n",
      "Target: [  45000   50000   60000   80000  110000  150000  200000  300000  500000\n",
      " 1000000]\n"
     ]
    }
   ],
   "source": [
    "# split dataset into independent and dependent variables\n",
    "X = dataset.iloc[:, 1:-1].values\n",
    "y = dataset.iloc[:, -1].values\n",
    "\n",
    "# print X and y\n",
    "print(f'Features: {X}')\n",
    "print(f'Target: {y}')"
   ]
  },
  {
   "attachments": {},
   "cell_type": "markdown",
   "metadata": {},
   "source": [
    "### Train random forest regressor"
   ]
  },
  {
   "cell_type": "code",
   "execution_count": 10,
   "metadata": {},
   "outputs": [
    {
     "data": {
      "text/plain": [
       "array([167000.])"
      ]
     },
     "execution_count": 10,
     "metadata": {},
     "output_type": "execute_result"
    }
   ],
   "source": [
    "# train random forest regression model on whole dataset\n",
    "rf_regressor = RandomForestRegressor(n_estimators=10, random_state=0)\n",
    "\n",
    "# fit the model\n",
    "rf_regressor.fit(X, y)\n",
    "\n",
    "# predict a new result\n",
    "rf_regressor.predict([[6.5]])"
   ]
  },
  {
   "attachments": {},
   "cell_type": "markdown",
   "metadata": {},
   "source": [
    "### Visualize the results"
   ]
  },
  {
   "cell_type": "code",
   "execution_count": 9,
   "metadata": {},
   "outputs": [
    {
     "data": {
      "image/png": "[encoded data removed]",
      "text/plain": [
       "<Figure size 640x480 with 1 Axes>"
      ]
     },
     "metadata": {},
     "output_type": "display_data"
    }
   ],
   "source": [
    "# visualize random forest regression results (higher resolution)\n",
    "X_grid = np.arange(min(X), max(X), 0.1)\n",
    "X_grid = X_grid.reshape((len(X_grid), 1))\n",
    "plt.scatter(X, y, color='red')\n",
    "plt.plot(X_grid, rf_regressor.predict(X_grid), color='blue')\n",
    "plt.title('Random Forest Regression')\n",
    "plt.xlabel('Position Level')\n",
    "plt.ylabel('Salary')\n",
    "plt.show()\n"
   ]
  },
  {
   "attachments": {},
   "cell_type": "markdown",
   "metadata": {},
   "source": [
    "## California Housing Dataset"
   ]
  },
  {
   "attachments": {},
   "cell_type": "markdown",
   "metadata": {},
   "source": [
    "### Load dataset"
   ]
  },
  {
   "cell_type": "code",
   "execution_count": 11,
   "metadata": {},
   "outputs": [
    {
     "name": "stdout",
     "output_type": "stream",
     "text": [
      "Features: ['MedInc', 'HouseAge', 'AveRooms', 'AveBedrms', 'Population', 'AveOccup', 'Latitude', 'Longitude']\n",
      "Target: ['MedHouseVal']\n",
      ".. _california_housing_dataset:\n",
      "\n",
      "California Housing dataset\n",
      "--------------------------\n",
      "\n",
      "**Data Set Characteristics:**\n",
      "\n",
      "    :Number of Instances: 20640\n",
      "\n",
      "    :Number of Attributes: 8 numeric, predictive attributes and the target\n",
      "\n",
      "    :Attribute Information:\n",
      "        - MedInc        median income in block group\n",
      "        - HouseAge      median house age in block group\n",
      "        - AveRooms      average number of rooms per household\n",
      "        - AveBedrms     average number of bedrooms per household\n",
      "        - Population    block group population\n",
      "        - AveOccup      average number of household members\n",
      "        - Latitude      block group latitude\n",
      "        - Longitude     block group longitude\n",
      "\n",
      "    :Missing Attribute Values: None\n",
      "\n",
      "This dataset was obtained from the StatLib repository.\n",
      "https://www.dcc.fc.up.pt/~ltorgo/Regression/cal_housing.html\n",
      "\n",
      "The target variable is the median house value for California districts,\n",
      "expressed in hundreds of thousands of dollars ($100,000).\n",
      "\n",
      "This dataset was derived from the 1990 U.S. census, using one row per census\n",
      "block group. A block group is the smallest geographical unit for which the U.S.\n",
      "Census Bureau publishes sample data (a block group typically has a population\n",
      "of 600 to 3,000 people).\n",
      "\n",
      "An household is a group of people residing within a home. Since the average\n",
      "number of rooms and bedrooms in this dataset are provided per household, these\n",
      "columns may take surpinsingly large values for block groups with few households\n",
      "and many empty houses, such as vacation resorts.\n",
      "\n",
      "It can be downloaded/loaded using the\n",
      ":func:`sklearn.datasets.fetch_california_housing` function.\n",
      "\n",
      ".. topic:: References\n",
      "\n",
      "    - Pace, R. Kelley and Ronald Barry, Sparse Spatial Autoregressions,\n",
      "      Statistics and Probability Letters, 33 (1997) 291-297\n",
      "\n"
     ]
    }
   ],
   "source": [
    "# load california housing dataset from sklearn\n",
    "from sklearn.datasets import fetch_california_housing\n",
    "\n",
    "# load dataset\n",
    "cal_data = fetch_california_housing()\n",
    "\n",
    "# print cal_data features and target\n",
    "print(f'Features: {cal_data.feature_names}')\n",
    "print(f'Target: {cal_data.target_names}')\n",
    "\n",
    "# print cal_data description\n",
    "print(cal_data.DESCR)"
   ]
  },
  {
   "cell_type": "code",
   "execution_count": 12,
   "metadata": {},
   "outputs": [
    {
     "name": "stdout",
     "output_type": "stream",
     "text": [
      "Sample Features: [[ 8.32520000e+00  4.10000000e+01  6.98412698e+00  1.02380952e+00\n",
      "   3.22000000e+02  2.55555556e+00  3.78800000e+01 -1.22230000e+02]\n",
      " [ 8.30140000e+00  2.10000000e+01  6.23813708e+00  9.71880492e-01\n",
      "   2.40100000e+03  2.10984183e+00  3.78600000e+01 -1.22220000e+02]\n",
      " [ 7.25740000e+00  5.20000000e+01  8.28813559e+00  1.07344633e+00\n",
      "   4.96000000e+02  2.80225989e+00  3.78500000e+01 -1.22240000e+02]\n",
      " [ 5.64310000e+00  5.20000000e+01  5.81735160e+00  1.07305936e+00\n",
      "   5.58000000e+02  2.54794521e+00  3.78500000e+01 -1.22250000e+02]\n",
      " [ 3.84620000e+00  5.20000000e+01  6.28185328e+00  1.08108108e+00\n",
      "   5.65000000e+02  2.18146718e+00  3.78500000e+01 -1.22250000e+02]]\n",
      "Sample Target: [4.526 3.585 3.521 3.413 3.422]\n"
     ]
    }
   ],
   "source": [
    "# split cal data into independent and dependent variables\n",
    "X_cal = cal_data.data\n",
    "y_cal = cal_data.target\n",
    "\n",
    "# print first 5 rows of X and y\n",
    "print(f'Sample Features: {X_cal[:5]}')\n",
    "print(f'Sample Target: {y_cal[:5]}')"
   ]
  },
  {
   "attachments": {},
   "cell_type": "markdown",
   "metadata": {},
   "source": [
    "### Split data into training and test sets"
   ]
  },
  {
   "cell_type": "code",
   "execution_count": 14,
   "metadata": {},
   "outputs": [
    {
     "name": "stdout",
     "output_type": "stream",
     "text": [
      "Number of training data points: 16512\n",
      "Number of test data points: 4128\n"
     ]
    }
   ],
   "source": [
    "# split data into training and test sets\n",
    "from sklearn.model_selection import train_test_split\n",
    "\n",
    "X_cal_train, X_cal_test, y_cal_train, y_cal_test = train_test_split(X_cal, y_cal, test_size=0.2, random_state=42)\n",
    "\n",
    "# print number of data points of training and test sets\n",
    "print(f'Number of training data points: {len(X_cal_train)}')\n",
    "print(f'Number of test data points: {len(X_cal_test)}')\n"
   ]
  },
  {
   "attachments": {},
   "cell_type": "markdown",
   "metadata": {},
   "source": [
    "### Train random forest regressor on training set"
   ]
  },
  {
   "cell_type": "code",
   "execution_count": 22,
   "metadata": {},
   "outputs": [
    {
     "name": "stdout",
     "output_type": "stream",
     "text": [
      "Target vs Predicted - n log trees \n",
      " [[0.477      0.48871429]\n",
      " [0.458      0.71257143]\n",
      " [5.00001    4.79686429]\n",
      " [2.186      2.60757143]\n",
      " [2.78       2.11978571]]\n",
      "Target vs Predicted - n sqrt trees \n",
      " [[0.477      0.48975   ]\n",
      " [0.458      0.71919531]\n",
      " [5.00001    4.83494391]\n",
      " [2.186      2.58432031]\n",
      " [2.78       2.30978906]]\n"
     ]
    }
   ],
   "source": [
    "# get tree count from number of training data points\n",
    "tree_count_log = int(np.log2(len(X_cal_train)))\n",
    "tree_count_sqrt = int(np.sqrt(len(X_cal_train)))\n",
    "\n",
    "# record start time\n",
    "start_time_log = time.time()\n",
    "\n",
    "# train random forest regression model on training set with log tree count\n",
    "rf_regressor_log = RandomForestRegressor(n_estimators=tree_count_log, random_state=0)\n",
    "\n",
    "# fit the model\n",
    "rf_regressor_log.fit(X_cal_train, y_cal_train)\n",
    "\n",
    "#record end time\n",
    "end_time_log = time.time()\n",
    "log_training_time = end_time_log - start_time_log\n",
    "\n",
    "# predict test set results\n",
    "y_cal_log_pred = rf_regressor_log.predict(X_cal_test)\n",
    "\n",
    "# create y_out by concatenating y_cal_test and y_cal_pred\n",
    "y_out_log = np.concatenate((y_cal_test.reshape(len(y_cal_test), 1), y_cal_log_pred.reshape(len(y_cal_log_pred), 1)), 1)\n",
    "\n",
    "# print first 5 rows of y_out\n",
    "print(f'Target vs Predicted - n log trees \\n {y_out_log[:5]}')\n",
    "\n",
    "\n",
    "# record start time\n",
    "start_time_sqrt = time.time()\n",
    "\n",
    "# train random forest regression model on training set with sqrt tree count\n",
    "rf_regressor_sqrt = RandomForestRegressor(n_estimators=tree_count_sqrt, random_state=0)\n",
    "\n",
    "# fit the model\n",
    "rf_regressor_sqrt.fit(X_cal_train, y_cal_train)\n",
    "\n",
    "# record end time\n",
    "end_time_sqrt = time.time()\n",
    "sqrt_training_time = end_time_sqrt - start_time_sqrt\n",
    "\n",
    "# predict test set results\n",
    "y_cal_sqrt_pred = rf_regressor_sqrt.predict(X_cal_test)\n",
    "\n",
    "# create y_out by concatenating y_cal_test and y_cal_pred\n",
    "y_out_sqrt = np.concatenate((y_cal_test.reshape(len(y_cal_test), 1), y_cal_sqrt_pred.reshape(len(y_cal_sqrt_pred), 1)), 1)\n",
    "\n",
    "# print first 5 rows of y_out\n",
    "print(f'Target vs Predicted - n sqrt trees \\n {y_out_sqrt[:5]}')\n"
   ]
  },
  {
   "attachments": {},
   "cell_type": "markdown",
   "metadata": {},
   "source": [
    "### Evaluate Model Performances"
   ]
  },
  {
   "cell_type": "code",
   "execution_count": 25,
   "metadata": {},
   "outputs": [
    {
     "name": "stdout",
     "output_type": "stream",
     "text": [
      "R2 Score - n log trees: 0.7920191516190223\n",
      "Time taken - n log trees: 1.0843074321746826\n",
      "R2 Score - n sqrt trees: 0.8063181273252072\n",
      "Time taken - n sqrt trees: 9.844828844070435\n"
     ]
    }
   ],
   "source": [
    "# evaluate model performance for log trees\n",
    "from sklearn.metrics import r2_score\n",
    "\n",
    "r2_log = r2_score(y_cal_test, y_cal_log_pred)\n",
    "print(f'R2 Score - n log trees: {r2_log}')\n",
    "print(f'Time taken - n log trees: {log_training_time}')\n",
    "\n",
    "# evaluate model performance for sqrt trees\n",
    "r2_sqrt = r2_score(y_cal_test, y_cal_sqrt_pred)\n",
    "print(f'R2 Score - n sqrt trees: {r2_sqrt}')\n",
    "print(f'Time taken - n sqrt trees: {sqrt_training_time}')"
   ]
  }
 ],
 "metadata": {
  "kernelspec": {
   "display_name": "deeplearning",
   "language": "python",
   "name": "python3"
  },
  "language_info": {
   "codemirror_mode": {
    "name": "ipython",
    "version": 3
   },
   "file_extension": ".py",
   "mimetype": "text/x-python",
   "name": "python",
   "nbconvert_exporter": "python",
   "pygments_lexer": "ipython3",
   "version": "3.10.6 (tags/v3.10.6:9c7b4bd, Aug  1 2022, 21:53:49) [MSC v.1932 64 bit (AMD64)]"
  },
  "orig_nbformat": 4,
  "vscode": {
   "interpreter": {
    "hash": "a956c096fbee86be6dc66f0cfbe5573e3b0ae35e330fba049136e9d536ab2f89"
   }
  }
 },
 "nbformat": 4,
 "nbformat_minor": 2
}
